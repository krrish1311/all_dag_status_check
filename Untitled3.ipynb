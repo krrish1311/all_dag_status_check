{
 "cells": [
  {
   "cell_type": "code",
   "execution_count": 56,
   "id": "e5fcbdf7",
   "metadata": {},
   "outputs": [],
   "source": [
    "from datetime import datetime"
   ]
  },
  {
   "cell_type": "code",
   "execution_count": 58,
   "id": "6e94535b",
   "metadata": {},
   "outputs": [
    {
     "name": "stdout",
     "output_type": "stream",
     "text": [
      "2023-05-08 08:43:08.134009+00:00\n"
     ]
    }
   ],
   "source": [
    "date_str = \"2023-05-08T08:43:08.134009+00:00\"\n",
    "date_time_obj = datetime.fromisoformat(date_str)\n",
    "\n",
    "print(date_time_obj)\n"
   ]
  },
  {
   "cell_type": "code",
   "execution_count": 13,
   "id": "9b424b0b",
   "metadata": {},
   "outputs": [
    {
     "data": {
      "text/plain": [
       "True"
      ]
     },
     "execution_count": 13,
     "metadata": {},
     "output_type": "execute_result"
    }
   ],
   "source": [
    "\"2023-05-08T08:43:08.134009+00:00\"!=0"
   ]
  },
  {
   "cell_type": "code",
   "execution_count": 4,
   "id": "a764782e",
   "metadata": {},
   "outputs": [],
   "source": [
    "date_time_obj_2 = datetime.datetime.fromisoformat('2023-05-12T07:21:16.926994+00:00')\n"
   ]
  },
  {
   "cell_type": "code",
   "execution_count": 8,
   "id": "489f1a8b",
   "metadata": {},
   "outputs": [
    {
     "data": {
      "text/plain": [
       "True"
      ]
     },
     "execution_count": 8,
     "metadata": {},
     "output_type": "execute_result"
    }
   ],
   "source": [
    "date_time_obj<date_time_obj_2"
   ]
  },
  {
   "cell_type": "code",
   "execution_count": 17,
   "id": "c19199c1",
   "metadata": {},
   "outputs": [],
   "source": [
    "import requests"
   ]
  },
  {
   "cell_type": "code",
   "execution_count": 18,
   "id": "8c92a452",
   "metadata": {},
   "outputs": [],
   "source": [
    "import smtplib\n",
    "from email.message import EmailMessage\n",
    "from email.mime.multipart import MIMEMultipart\n",
    "from email.mime.text import MIMEText\n"
   ]
  },
  {
   "cell_type": "code",
   "execution_count": 60,
   "id": "21acf5bf",
   "metadata": {},
   "outputs": [],
   "source": [
    "def get_dag_run_info(dag_id,order_by,limit=100):\n",
    "    dag_run_resp=requests.get('http://localhost:8080/api/v1/dags/{}/dagRuns?limit={}&order_by={}'.format(dag_id,limit,order_by),auth=('Admin', '7A6WrqcdpK8bA66A'))\n",
    "    dag_run_output=dag_run_resp.json()\n",
    "    if dag_run_output['total_entries']>0:\n",
    "        return dag_run_output\n",
    "    else:\n",
    "        return False"
   ]
  },
  {
   "cell_type": "code",
   "execution_count": 61,
   "id": "cea1dccd",
   "metadata": {},
   "outputs": [],
   "source": [
    "def sort_dag_running(dag_run_resp,dag_id):\n",
    "    sorted_dag_runs=[]\n",
    "    start_date=0\n",
    "    start_date_obj=0\n",
    "    total_running_tasks=0\n",
    "    for dag_run in dag_run_resp:\n",
    "        if dag_run['state']=='failed' or dag_run['state']=='queued':\n",
    "            pass\n",
    "        elif dag_run['state']=='running':\n",
    "            temp_date_obj=datetime.fromisoformat(dag_run['start_date'])\n",
    "            if start_date==0 or start_date_obj>temp_date_obj:\n",
    "                start_date=dag_run['start_date']\n",
    "                start_date_obj=temp_date_obj\n",
    "            task_inst=requests.get('http://localhost:8080/api/v1/dags/{}/dagRuns/{}/taskInstances'.format(dag_id,dag_run['dag_run_id']),auth=('Admin', '7A6WrqcdpK8bA66A'))\n",
    "            task_inst_resp=task_inst.json()\n",
    "            for instance in task_inst_resp[\"task_instances\"]:\n",
    "                if instance['state']=='running':\n",
    "                    total_running_tasks+=1\n",
    "                \n",
    "#             sorted_dag_runs.append(dag_run)\n",
    "        else:\n",
    "            return start_date,total_running_tasks\n",
    "        "
   ]
  },
  {
   "cell_type": "code",
   "execution_count": null,
   "id": "204cad83",
   "metadata": {},
   "outputs": [],
   "source": []
  },
  {
   "cell_type": "code",
   "execution_count": 62,
   "id": "4411376f",
   "metadata": {},
   "outputs": [],
   "source": [
    "def check_running_dag(dag_id):\n",
    "    total_task_instances=0\n",
    "    all_dag_runs=get_dag_run_info(dag_id,'state')\n",
    "#     print(all_dag_runs)\n",
    "    if all_dag_runs:\n",
    "        task_instances=sort_dag_running(all_dag_runs['dag_runs'],dag_id)\n",
    "        print(\"output\",task_instances)\n",
    "        if task_instances[0]!=0 and task_instances[1]>5:\n",
    "            dag_info={'DAG Name':dag_id,'Total Running Instances':task_instances[1],'Stuck Since':task_instances[0],'Latest DAG Status':'running'}\n",
    "            return dag_info\n",
    "        else:\n",
    "            return 'no_running'\n",
    "\n",
    "    else:\n",
    "            return 'no_running'    \n"
   ]
  },
  {
   "cell_type": "code",
   "execution_count": 63,
   "id": "7f0f52e5",
   "metadata": {},
   "outputs": [],
   "source": [
    "def sort_dag_failed(dag_run_resp):\n",
    "    sorted_dag_run=None\n",
    "    start_date=0\n",
    "    start_date_obj=0\n",
    "    for dag_run in dag_run_resp:\n",
    "#         print(dag_run)\n",
    "        if dag_run['state']=='failed':\n",
    "            temp_date_obj=datetime.fromisoformat(dag_run['start_date'])\n",
    "            if start_date==0 or start_date_obj<temp_date_obj:\n",
    "                start_date=dag_run['start_date']\n",
    "                start_date_obj=temp_date_obj\n",
    "                sorted_dag_run=dag_run\n",
    "            \n",
    "                       \n",
    "           \n",
    "        else:\n",
    "            return sorted_dag_run\n",
    "        "
   ]
  },
  {
   "cell_type": "code",
   "execution_count": 64,
   "id": "86145278",
   "metadata": {},
   "outputs": [],
   "source": [
    "def check_failling_dag(dag_id):\n",
    "    all_dag_runs=get_dag_run_info(dag_id,'state')\n",
    "    if all_dag_runs:\n",
    "        failed_dag_run=sort_dag_failed(all_dag_runs['dag_runs'])\n",
    "        if failed_dag_run!=None:\n",
    "            failed_dag_info={'DAG Name':dag_id,'Failed Since':failed_dag_run['end_date'],'Latest DAG Status':'failed'} \n",
    "            return failed_dag_info \n",
    "        else:\n",
    "            return 'no_failed'      \n",
    "\n",
    "    \n",
    "    else:\n",
    "        return 'no_failed'      \n"
   ]
  },
  {
   "cell_type": "code",
   "execution_count": 65,
   "id": "8b3db69d",
   "metadata": {},
   "outputs": [],
   "source": [
    "def email_body_table(dag_info,email_body):\n",
    "#         email_body=\"<table><thead><tr>\"\n",
    "        for key in dag_info[0].keys():\n",
    "            email_body=email_body+'<th>'+key+'</th>'\n",
    "        email_body=email_body+'</tr></thead><tbody>'\n",
    "        for i in dag_info:\n",
    "            email_body=email_body+'<tr>'\n",
    "            for j in i:\n",
    "                email_body=email_body+'<td align=center>'+str(i[j])+'</td>'\n",
    "            email_body=email_body+'</tr>'\n",
    "        email_body=email_body+'</tbody></table>' \n",
    "        return email_body\n",
    "\n",
    "                \n",
    "        \n",
    "\n",
    "\n"
   ]
  },
  {
   "cell_type": "code",
   "execution_count": 66,
   "id": "b97bf873",
   "metadata": {},
   "outputs": [],
   "source": [
    "def send_mail(subject,email_body):\n",
    "    smtp_server = smtplib.SMTP('smtp.gmail.com', 587)\n",
    "    smtp_server.starttls()\n",
    "    smtp_server.login('xrrishdummy@gmail.com', 'fapizjbrcbhnkhfi')\n",
    "    \n",
    "    message = MIMEMultipart()\n",
    "    \n",
    "    body = MIMEText(email_body, 'html')\n",
    "    message.attach(body)\n",
    "\n",
    "    \n",
    "#     message = EmailMessage()\n",
    "    message['From'] = 'xrrishdummy@gmail.com'\n",
    "    # message['To'] = 'mayur.deshpande@iauro.com'\n",
    "    message['To'] = 'krishgoal2000@gmail.com'\n",
    "    message['Subject'] = subject\n",
    "\n",
    "#     smtp_server.send_message(message, 'xrrishdummy@gmail.com', ' mayur.deshpande@iauro.com')\n",
    "    smtp_server.sendmail(message['From'], message['To'], message.as_string())\n",
    "\n",
    "    smtp_server.quit()\n"
   ]
  },
  {
   "cell_type": "code",
   "execution_count": 67,
   "id": "394da116",
   "metadata": {},
   "outputs": [],
   "source": [
    "def all_dag_fail_run_status():\n",
    "    all_running_dag=[]\n",
    "    all_failed_dag=[]\n",
    "    response_dags=requests.get('http://localhost:8080/api/v1/dags?limit=100&only_active=true',auth=('Admin', '7A6WrqcdpK8bA66A'))\n",
    "    output=response_dags.json()\n",
    "    all_dags=output['dags']\n",
    "    # send_running_mail=False\n",
    "    # send_failed_mail=False\n",
    "    for dag in all_dags:\n",
    "        dag_run_info=check_running_dag(dag['dag_id'])\n",
    "        if dag_run_info=='no_running':\n",
    "            pass\n",
    "        else:\n",
    "            all_running_dag.append(dag_run_info)\n",
    "        dag_failed_info=check_failling_dag(dag['dag_id'])\n",
    "        if dag_failed_info=='no_failed':\n",
    "            pass\n",
    "        else:\n",
    "            all_failed_dag.append(dag_failed_info)\n",
    "    print(all_running_dag)\n",
    "    print(all_failed_dag)\n",
    "    if len(all_running_dag)>0:\n",
    "        running_body=email_body_table(dag_info=all_running_dag,email_body=\"<table border=2 ><thead><caption>DAG's with Multiple Running Instances</caption><tr>\")\n",
    "        if len(all_failed_dag)>0:\n",
    "            email_body=email_body_table(dag_info=all_failed_dag,email_body=running_body+\"</br></br></br></br></br></br><table border=2 ><thead><caption>DAG's in Error State</caption><tr>\")\n",
    "            print(email_body)\n",
    "            send_mail(\"!!DAG's STATUS\",email_body=email_body)\n",
    "        else:\n",
    "            running_body=running_body+\"</br></br></br></br></br></br><h2>Failed Dag's are Not Found!</h2>\" \n",
    "            send_mail(\"!!DAG's STATUS\",email_body=running_body)\n",
    "            \n",
    "    elif len(all_failed_dag)>0:\n",
    "        failed_body=email_body_table(dag_info=all_failed_dag,email_body=\"<h2>No Running Dag's are present</h2>\"+\"</br></br></br></br></br></br><table border=2 ><thead><caption>DAG's in Error State</caption><tr>\")\n",
    "        send_mail(\"!!DAG's STATUS\",email_body=failed_body)\n",
    "                        \n",
    "    else:\n",
    "        print('no Running and Failed dags are founded')                    \n"
   ]
  },
  {
   "cell_type": "code",
   "execution_count": 68,
   "id": "72e3d81e",
   "metadata": {},
   "outputs": [
    {
     "name": "stdout",
     "output_type": "stream",
     "text": [
      "output (0, 0)\n",
      "output (0, 0)\n",
      "output (0, 0)\n",
      "output (0, 0)\n",
      "output (0, 0)\n",
      "output ('2023-05-12T07:20:51.326180+00:00', 0)\n",
      "output ('2023-05-12T13:47:32.758477+00:00', 0)\n",
      "output (0, 0)\n",
      "output (0, 0)\n",
      "output ('2023-05-08T08:42:39.224418+00:00', 0)\n",
      "output (0, 0)\n",
      "[]\n",
      "[{'DAG Name': 'dag-sleep_2', 'Failed Since': '2023-05-12T07:21:17.177513+00:00', 'Latest DAG Status': 'failed'}, {'DAG Name': 'send_mail_by_check', 'Failed Since': '2023-04-27T05:13:08.366985+00:00', 'Latest DAG Status': 'failed'}]\n"
     ]
    }
   ],
   "source": [
    "all_dag_fail_run_status()"
   ]
  },
  {
   "cell_type": "code",
   "execution_count": 40,
   "id": "8124620a",
   "metadata": {},
   "outputs": [],
   "source": [
    "dict_={'hii':1}\n",
    "dict_=False"
   ]
  },
  {
   "cell_type": "code",
   "execution_count": 41,
   "id": "9fc5c72c",
   "metadata": {},
   "outputs": [],
   "source": [
    "if dict_:\n",
    "    print(\"hii\")"
   ]
  },
  {
   "cell_type": "code",
   "execution_count": null,
   "id": "9fc9e2b9",
   "metadata": {},
   "outputs": [],
   "source": []
  }
 ],
 "metadata": {
  "kernelspec": {
   "display_name": "Python 3 (ipykernel)",
   "language": "python",
   "name": "python3"
  },
  "language_info": {
   "codemirror_mode": {
    "name": "ipython",
    "version": 3
   },
   "file_extension": ".py",
   "mimetype": "text/x-python",
   "name": "python",
   "nbconvert_exporter": "python",
   "pygments_lexer": "ipython3",
   "version": "3.9.13"
  }
 },
 "nbformat": 4,
 "nbformat_minor": 5
}
